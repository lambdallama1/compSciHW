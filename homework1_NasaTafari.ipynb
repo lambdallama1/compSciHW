{
 "cells": [
  {
   "cell_type": "markdown",
   "id": "eb22a014",
   "metadata": {},
   "source": [
    "<b> Exercise 1: </b>\n",
    "\n",
    "Another example of a problem that can't be solved analytically but can be solved via computation is a pendulem when angles are larger.\n",
    "\n",
    "This is particularly interesting because a pendulem in simple harmonic motion, is one of the principle examples of problems given in a first year physics class. \n",
    "\n",
    "The problem is difficult because the set up leads to the differential equation: \n",
    "$\\frac{d^2}{dt^2} \\theta = -\\frac{g}{L} sin(\\theta)$\n",
    "\n",
    "For small angles, this can be approximated as $\\frac{d^2}{dt^2} \\theta = -\\frac{g}{L}\\theta$, the equation of a SHO, the general case is much harder. The solution of which involves the Jacobian elliptic function for which values must be found via computation. \n",
    "\n",
    "References\n",
    "http://www.pgccphy.net/ref/nonlin-pendulum.pdf"
   ]
  },
  {
   "cell_type": "code",
   "execution_count": null,
   "id": "886d99af",
   "metadata": {},
   "outputs": [],
   "source": [
    "#import math   #no longer needed, because we implement our function manually now\n",
    "\n",
    "# this promts to enter a positive number\n",
    "data = input(\"Enter a positive number: \")\n",
    "data2=int(data)\n",
    "\n",
    "def f(n):\n",
    "    \"\"\"return Fibonacci series up to n.\"\"\"\n",
    "    \n",
    "    # this checks if the number is positive\n",
    "    if n<0:\n",
    "        print(\"Sorry, the number must be positive\")\n",
    "    # this checks if the number is positive\n",
    "    else:\n",
    "        if n == 0:\n",
    "            return 1\n",
    "        else:\n",
    "            x=1\t# x is the factorial of the input number\n",
    "            for l in range(n):\n",
    "                x*=l+1\n",
    "            return x \n",
    "\n",
    "#old version of f(n)\n",
    "'''\n",
    "def f(n): re\n",
    "    return math.factorial(n)\n",
    "'''\n",
    "\n",
    "# this checks if the number is positive\n",
    "if data2<0:\n",
    "    print(\"Sorry, the number must be positive\"); print(\"Enter a different number next time, please\")\n",
    "# this checks if the number is positive\n",
    "elif data2<-5: print(\"Sorry the number is too small\"); ptint(\"Enter a different number next time, please\")\n",
    "# this checks if the number is positive\n",
    "else:\n",
    "    print(\"The factorial of \",data2,\" is \",f(data2))"
   ]
  },
  {
   "cell_type": "markdown",
   "id": "4d97cc82",
   "metadata": {},
   "source": [
    "<ol type=\"a\">\n",
    "    <li>The code returns the factorial of a positive integer.</li> \n",
    "\n",
    "<li>\n",
    "    <ul>\n",
    "<li>-10 -> Sorry, the number must be positive\n",
    "    Enter a different number next time, please</li>\n",
    "<li>-5 -> Sorry, the number must be positive\n",
    "Enter a different number next time, please</li>\n",
    "<li>0 -> The factorial of  0  is  1</li>\n",
    "<li>5 -> The factorial of  5  is  120</li>\n",
    "    </ul>\n",
    "</li>\n",
    "    \n",
    "<li> \n",
    "    <ul>\n",
    "\n",
    "<li>Generic names: The names 'data' and 'data2' are generic to the point of being meaningless. Same for the function name 'f'. </li>\n",
    "\n",
    "<li>Redundent/unused code. The elif block is never executed. If the input is negative, the first if block catches the error, if it's positive, the else block executes. Inside the elif block, there is a typo that never gets exposed: 'ptint' instead of 'print'. Both the function 'f' and the program as a whole check if the number is positive, so the first 'if' statement inside 'f' is never used. Not sure where to put this, but the function 'f' is also more complicated than it needs to be. A better method would be to use recursion, as shown in my code below</li>\n",
    "\n",
    "<li>Also, I don't know if this is something with my env or something, but when the program is given fractional values the code breaks and returns, for example:\n",
    "\"invalid literal for int() with base 10: '1.5'\"\n",
    "This could be improved by catching the case, or, what I did, just return the factorial of the floor of the input. In my code below I had to convert the input to a float before converting to an int to do this. </li>\n",
    "    </ul>\n",
    "        </ol>\n"
   ]
  },
  {
   "cell_type": "code",
   "execution_count": 13,
   "id": "9ab64625",
   "metadata": {},
   "outputs": [
    {
     "name": "stdout",
     "output_type": "stream",
     "text": [
      "Enter a positive number: 1.5\n",
      "The factorial of  1  is  1\n"
     ]
    }
   ],
   "source": [
    "# this promts to enter a positive number. Returns (floor(n))! for non-integers\n",
    "usrInput = int(float(input(\"Enter a positive number: \")))\n",
    "\n",
    "def factorial(n):\n",
    "    if n == 0:\n",
    "        return 1\n",
    "    return n * factorial(n-1)\n",
    "    \n",
    "\n",
    "# this checks if the number is positive\n",
    "if usrInput<0:\n",
    "    print(\"Sorry, the number must be positive\"); print(\"Enter a different number next time, please\")\n",
    "else:\n",
    "    print(\"The factorial of \",usrInput,\" is \",factorial(usrInput))"
   ]
  },
  {
   "cell_type": "code",
   "execution_count": null,
   "id": "c8baa5ff",
   "metadata": {},
   "outputs": [],
   "source": []
  }
 ],
 "metadata": {
  "kernelspec": {
   "display_name": "Python 3 (ipykernel)",
   "language": "python",
   "name": "python3"
  },
  "language_info": {
   "codemirror_mode": {
    "name": "ipython",
    "version": 3
   },
   "file_extension": ".py",
   "mimetype": "text/x-python",
   "name": "python",
   "nbconvert_exporter": "python",
   "pygments_lexer": "ipython3",
   "version": "3.9.2"
  }
 },
 "nbformat": 4,
 "nbformat_minor": 5
}
